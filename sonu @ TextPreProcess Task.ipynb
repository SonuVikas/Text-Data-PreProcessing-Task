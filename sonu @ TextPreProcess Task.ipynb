{
 "cells": [
  {
   "cell_type": "markdown",
   "id": "4847f729",
   "metadata": {},
   "source": [
    "# Text Data PreProcessing Task"
   ]
  },
  {
   "cell_type": "code",
   "execution_count": 103,
   "id": "9b059a24",
   "metadata": {},
   "outputs": [
    {
     "name": "stderr",
     "output_type": "stream",
     "text": [
      "[nltk_data] Downloading package stopwords to C:\\Users\\Sonu\n",
      "[nltk_data]     Vikas\\AppData\\Roaming\\nltk_data...\n",
      "[nltk_data]   Package stopwords is already up-to-date!\n",
      "[nltk_data] Downloading package wordnet to C:\\Users\\Sonu\n",
      "[nltk_data]     Vikas\\AppData\\Roaming\\nltk_data...\n",
      "[nltk_data]   Package wordnet is already up-to-date!\n",
      "[nltk_data] Downloading package omw-1.4 to C:\\Users\\Sonu\n",
      "[nltk_data]     Vikas\\AppData\\Roaming\\nltk_data...\n"
     ]
    },
    {
     "data": {
      "text/plain": [
       "True"
      ]
     },
     "execution_count": 103,
     "metadata": {},
     "output_type": "execute_result"
    }
   ],
   "source": [
    "import numpy as np\n",
    "import pandas as pd\n",
    "import regex as re\n",
    "import nltk\n",
    "from nltk.corpus import stopwords\n",
    "from nltk.stem import SnowballStemmer\n",
    "from nltk.stem import WordNetLemmatizer\n",
    "nltk.download('stopwords')\n",
    "nltk.download('wordnet')\n",
    "nltk.download('omw-1.4')"
   ]
  },
  {
   "cell_type": "code",
   "execution_count": 104,
   "id": "1d688d7e",
   "metadata": {},
   "outputs": [],
   "source": [
    "doc_0='''A tree-toad loved a she-toad\n",
    "Who lived up in a tree.\n",
    "He was a two-toed tree-toad,\n",
    "But a three-toed toad was she.\n",
    "The two-toed tree-toad tried to win\n",
    "The three-toed she-toad's heart,\n",
    "For the two-toed tree-toad loved the ground\n",
    "That the three-toed tree-toad trod.\n",
    "But the two-toed tree-toad tried in vain;\n",
    "He couldn't please her whim.\n",
    "From her tree-toad bower,\n",
    "With her three-toed power,\n",
    "The she-toad vetoed him.'''"
   ]
  },
  {
   "cell_type": "code",
   "execution_count": 105,
   "id": "cd734e6e",
   "metadata": {},
   "outputs": [],
   "source": [
    "doc_1='''Bobby Bibby bought a bat\n",
    "Bobby Bibby bought a ball\n",
    "With his bat Bob banged the ball\n",
    "Banged it bump against the wall\n",
    "But so boldy Bobby banged it\n",
    "That he burst his rubber ball\n",
    "Boo! cried Bobby, Bad luck, ball!\n",
    "Bad luck, Bobby, Bad Luck ball.\n",
    "Now to drown his many troubles\n",
    "Bobby Bibby’s blowing bubbles.\n",
    "Black Bart was a smart marksman.'''"
   ]
  },
  {
   "cell_type": "code",
   "execution_count": 106,
   "id": "d77c4672",
   "metadata": {},
   "outputs": [],
   "source": [
    "doc_2='''All I want is a proper cup of coffee,\n",
    "Made in a proper copper coffee pot\n",
    "I may be off my dot\n",
    "But I want a cup of coffee\n",
    "From a proper coffee pot.\n",
    "\n",
    "Tin coffee pots and iron coffee pots\n",
    "They're no use to me -\n",
    "If I can't have a proper cup of coffee\n",
    "In a proper copper coffee pot\n",
    "I'll have a cup of tea.'''"
   ]
  },
  {
   "cell_type": "code",
   "execution_count": 107,
   "id": "ed3f5302",
   "metadata": {},
   "outputs": [],
   "source": [
    "doc_3='''Peter Piper picked a peck of pickled peppers.\n",
    "A peck of pickled peppers Peter Piper picked.\n",
    "If Peter Piper picked a peck of pickled peppers,\n",
    "Where’s the peck of pickled peppers Peter Piper picked?'''"
   ]
  },
  {
   "cell_type": "code",
   "execution_count": 108,
   "id": "7308ee0d",
   "metadata": {},
   "outputs": [],
   "source": [
    "doc_4='''Yellow butter, purple jelly, red jam, black bread.\n",
    "Spread it thick, say it quick!\n",
    "Yellow butter, purple jelly, red jam, black bread.\n",
    "Spread it thicker, say it quicker!\n",
    "Yellow butter, purple jelly, red jam, black bread.\n",
    "Don’t eat with your mouth full!'''"
   ]
  },
  {
   "cell_type": "code",
   "execution_count": 109,
   "id": "ddcf80df",
   "metadata": {},
   "outputs": [],
   "source": [
    "df_Org = pd.DataFrame({'docs' : [doc_0 , doc_1 , doc_2 , doc_3 , doc_4]})"
   ]
  },
  {
   "cell_type": "code",
   "execution_count": 110,
   "id": "c824ef7f",
   "metadata": {},
   "outputs": [
    {
     "data": {
      "text/html": [
       "<div>\n",
       "<style scoped>\n",
       "    .dataframe tbody tr th:only-of-type {\n",
       "        vertical-align: middle;\n",
       "    }\n",
       "\n",
       "    .dataframe tbody tr th {\n",
       "        vertical-align: top;\n",
       "    }\n",
       "\n",
       "    .dataframe thead th {\n",
       "        text-align: right;\n",
       "    }\n",
       "</style>\n",
       "<table border=\"1\" class=\"dataframe\">\n",
       "  <thead>\n",
       "    <tr style=\"text-align: right;\">\n",
       "      <th></th>\n",
       "      <th>docs</th>\n",
       "    </tr>\n",
       "  </thead>\n",
       "  <tbody>\n",
       "    <tr>\n",
       "      <th>0</th>\n",
       "      <td>A tree-toad loved a she-toad\\nWho lived up in ...</td>\n",
       "    </tr>\n",
       "    <tr>\n",
       "      <th>1</th>\n",
       "      <td>Bobby Bibby bought a bat\\nBobby Bibby bought a...</td>\n",
       "    </tr>\n",
       "    <tr>\n",
       "      <th>2</th>\n",
       "      <td>All I want is a proper cup of coffee,\\nMade in...</td>\n",
       "    </tr>\n",
       "    <tr>\n",
       "      <th>3</th>\n",
       "      <td>Peter Piper picked a peck of pickled peppers.\\...</td>\n",
       "    </tr>\n",
       "    <tr>\n",
       "      <th>4</th>\n",
       "      <td>Yellow butter, purple jelly, red jam, black br...</td>\n",
       "    </tr>\n",
       "  </tbody>\n",
       "</table>\n",
       "</div>"
      ],
      "text/plain": [
       "                                                docs\n",
       "0  A tree-toad loved a she-toad\\nWho lived up in ...\n",
       "1  Bobby Bibby bought a bat\\nBobby Bibby bought a...\n",
       "2  All I want is a proper cup of coffee,\\nMade in...\n",
       "3  Peter Piper picked a peck of pickled peppers.\\...\n",
       "4  Yellow butter, purple jelly, red jam, black br..."
      ]
     },
     "execution_count": 110,
     "metadata": {},
     "output_type": "execute_result"
    }
   ],
   "source": [
    "df_Org"
   ]
  },
  {
   "cell_type": "code",
   "execution_count": 111,
   "id": "34fb4cfd",
   "metadata": {},
   "outputs": [],
   "source": [
    "df = df_Org.copy()"
   ]
  },
  {
   "cell_type": "code",
   "execution_count": 112,
   "id": "ada91882",
   "metadata": {},
   "outputs": [
    {
     "data": {
      "text/html": [
       "<div>\n",
       "<style scoped>\n",
       "    .dataframe tbody tr th:only-of-type {\n",
       "        vertical-align: middle;\n",
       "    }\n",
       "\n",
       "    .dataframe tbody tr th {\n",
       "        vertical-align: top;\n",
       "    }\n",
       "\n",
       "    .dataframe thead th {\n",
       "        text-align: right;\n",
       "    }\n",
       "</style>\n",
       "<table border=\"1\" class=\"dataframe\">\n",
       "  <thead>\n",
       "    <tr style=\"text-align: right;\">\n",
       "      <th></th>\n",
       "      <th>docs</th>\n",
       "    </tr>\n",
       "  </thead>\n",
       "  <tbody>\n",
       "    <tr>\n",
       "      <th>0</th>\n",
       "      <td>A tree-toad loved a she-toad\\nWho lived up in ...</td>\n",
       "    </tr>\n",
       "    <tr>\n",
       "      <th>1</th>\n",
       "      <td>Bobby Bibby bought a bat\\nBobby Bibby bought a...</td>\n",
       "    </tr>\n",
       "    <tr>\n",
       "      <th>2</th>\n",
       "      <td>All I want is a proper cup of coffee,\\nMade in...</td>\n",
       "    </tr>\n",
       "    <tr>\n",
       "      <th>3</th>\n",
       "      <td>Peter Piper picked a peck of pickled peppers.\\...</td>\n",
       "    </tr>\n",
       "    <tr>\n",
       "      <th>4</th>\n",
       "      <td>Yellow butter, purple jelly, red jam, black br...</td>\n",
       "    </tr>\n",
       "  </tbody>\n",
       "</table>\n",
       "</div>"
      ],
      "text/plain": [
       "                                                docs\n",
       "0  A tree-toad loved a she-toad\\nWho lived up in ...\n",
       "1  Bobby Bibby bought a bat\\nBobby Bibby bought a...\n",
       "2  All I want is a proper cup of coffee,\\nMade in...\n",
       "3  Peter Piper picked a peck of pickled peppers.\\...\n",
       "4  Yellow butter, purple jelly, red jam, black br..."
      ]
     },
     "execution_count": 112,
     "metadata": {},
     "output_type": "execute_result"
    }
   ],
   "source": [
    "df"
   ]
  },
  {
   "cell_type": "markdown",
   "id": "8d38f9cd",
   "metadata": {},
   "source": [
    "# Data Cleaning"
   ]
  },
  {
   "cell_type": "code",
   "execution_count": 113,
   "id": "365139a0",
   "metadata": {},
   "outputs": [],
   "source": [
    "def text_cleaning(data , stem = False):\n",
    "    \n",
    "    # Removal of html tags\n",
    "    html_tag = re.sub(r'<.*?>' , '' , data)\n",
    "    \n",
    "    # Removal of Special Characters\n",
    "    spcl_chr = re.sub(r'[^A-z ]','',html_tag)\n",
    "    \n",
    "    # handling of newline char(\\n)\n",
    "    newline_tag = re.sub(r'\\n',' ',spcl_chr)\n",
    "    \n",
    "    # Convertion of the uniform case --> preferble (lower)\n",
    "    Sentence = newline_tag.lower()\n",
    "    \n",
    "    # spliting the data\n",
    "    tokens = Sentence.split()\n",
    "    \n",
    "    # Removing stopwords\n",
    "    clean_tokens = [ele for ele in tokens if ele not in stopwords.words('english')]\n",
    "    \n",
    "    # stemming or lemmatize\n",
    "    if stem:\n",
    "        doc_list = [SnowballStemmer('english').stem(i) for i in clean_tokens]\n",
    "    else:\n",
    "        doc_list = [WordNetLemmatizer().lemmatize(i) for i in clean_tokens]\n",
    "    \n",
    "    return ' '.join(doc_list)"
   ]
  },
  {
   "cell_type": "code",
   "execution_count": 115,
   "id": "99b186d5",
   "metadata": {},
   "outputs": [],
   "source": [
    "df['Text_cleaning_lemmatizer'] = df['docs'].apply(text_cleaning, stem=False)"
   ]
  },
  {
   "cell_type": "code",
   "execution_count": 116,
   "id": "9f8711e5",
   "metadata": {},
   "outputs": [
    {
     "data": {
      "text/html": [
       "<div>\n",
       "<style scoped>\n",
       "    .dataframe tbody tr th:only-of-type {\n",
       "        vertical-align: middle;\n",
       "    }\n",
       "\n",
       "    .dataframe tbody tr th {\n",
       "        vertical-align: top;\n",
       "    }\n",
       "\n",
       "    .dataframe thead th {\n",
       "        text-align: right;\n",
       "    }\n",
       "</style>\n",
       "<table border=\"1\" class=\"dataframe\">\n",
       "  <thead>\n",
       "    <tr style=\"text-align: right;\">\n",
       "      <th></th>\n",
       "      <th>docs</th>\n",
       "      <th>Text_cleaning_lemmatizer</th>\n",
       "    </tr>\n",
       "  </thead>\n",
       "  <tbody>\n",
       "    <tr>\n",
       "      <th>0</th>\n",
       "      <td>A tree-toad loved a she-toad\\nWho lived up in ...</td>\n",
       "      <td>treetoad loved shetoadwho lived treehe twotoed...</td>\n",
       "    </tr>\n",
       "    <tr>\n",
       "      <th>1</th>\n",
       "      <td>Bobby Bibby bought a bat\\nBobby Bibby bought a...</td>\n",
       "      <td>bobby bibby bought batbobby bibby bought ballw...</td>\n",
       "    </tr>\n",
       "    <tr>\n",
       "      <th>2</th>\n",
       "      <td>All I want is a proper cup of coffee,\\nMade in...</td>\n",
       "      <td>want proper cup coffeemade proper copper coffe...</td>\n",
       "    </tr>\n",
       "    <tr>\n",
       "      <th>3</th>\n",
       "      <td>Peter Piper picked a peck of pickled peppers.\\...</td>\n",
       "      <td>peter piper picked peck pickled peppersa peck ...</td>\n",
       "    </tr>\n",
       "    <tr>\n",
       "      <th>4</th>\n",
       "      <td>Yellow butter, purple jelly, red jam, black br...</td>\n",
       "      <td>yellow butter purple jelly red jam black bread...</td>\n",
       "    </tr>\n",
       "  </tbody>\n",
       "</table>\n",
       "</div>"
      ],
      "text/plain": [
       "                                                docs  \\\n",
       "0  A tree-toad loved a she-toad\\nWho lived up in ...   \n",
       "1  Bobby Bibby bought a bat\\nBobby Bibby bought a...   \n",
       "2  All I want is a proper cup of coffee,\\nMade in...   \n",
       "3  Peter Piper picked a peck of pickled peppers.\\...   \n",
       "4  Yellow butter, purple jelly, red jam, black br...   \n",
       "\n",
       "                            Text_cleaning_lemmatizer  \n",
       "0  treetoad loved shetoadwho lived treehe twotoed...  \n",
       "1  bobby bibby bought batbobby bibby bought ballw...  \n",
       "2  want proper cup coffeemade proper copper coffe...  \n",
       "3  peter piper picked peck pickled peppersa peck ...  \n",
       "4  yellow butter purple jelly red jam black bread...  "
      ]
     },
     "execution_count": 116,
     "metadata": {},
     "output_type": "execute_result"
    }
   ],
   "source": [
    "df"
   ]
  },
  {
   "cell_type": "code",
   "execution_count": 117,
   "id": "ac6ec3ea",
   "metadata": {},
   "outputs": [],
   "source": [
    "df['Text_cleaning_stemmer'] = df['docs'].apply(text_cleaning,stem = True)"
   ]
  },
  {
   "cell_type": "code",
   "execution_count": 118,
   "id": "f98031e3",
   "metadata": {},
   "outputs": [
    {
     "data": {
      "text/html": [
       "<div>\n",
       "<style scoped>\n",
       "    .dataframe tbody tr th:only-of-type {\n",
       "        vertical-align: middle;\n",
       "    }\n",
       "\n",
       "    .dataframe tbody tr th {\n",
       "        vertical-align: top;\n",
       "    }\n",
       "\n",
       "    .dataframe thead th {\n",
       "        text-align: right;\n",
       "    }\n",
       "</style>\n",
       "<table border=\"1\" class=\"dataframe\">\n",
       "  <thead>\n",
       "    <tr style=\"text-align: right;\">\n",
       "      <th></th>\n",
       "      <th>docs</th>\n",
       "      <th>Text_cleaning_lemmatizer</th>\n",
       "      <th>Text_cleaning_stemmer</th>\n",
       "    </tr>\n",
       "  </thead>\n",
       "  <tbody>\n",
       "    <tr>\n",
       "      <th>0</th>\n",
       "      <td>A tree-toad loved a she-toad\\nWho lived up in ...</td>\n",
       "      <td>treetoad loved shetoadwho lived treehe twotoed...</td>\n",
       "      <td>treetoad love shetoadwho live treeh twoto tree...</td>\n",
       "    </tr>\n",
       "    <tr>\n",
       "      <th>1</th>\n",
       "      <td>Bobby Bibby bought a bat\\nBobby Bibby bought a...</td>\n",
       "      <td>bobby bibby bought batbobby bibby bought ballw...</td>\n",
       "      <td>bobbi bibbi bought batbobbi bibbi bought ballw...</td>\n",
       "    </tr>\n",
       "    <tr>\n",
       "      <th>2</th>\n",
       "      <td>All I want is a proper cup of coffee,\\nMade in...</td>\n",
       "      <td>want proper cup coffeemade proper copper coffe...</td>\n",
       "      <td>want proper cup coffeemad proper copper coffe ...</td>\n",
       "    </tr>\n",
       "    <tr>\n",
       "      <th>3</th>\n",
       "      <td>Peter Piper picked a peck of pickled peppers.\\...</td>\n",
       "      <td>peter piper picked peck pickled peppersa peck ...</td>\n",
       "      <td>peter piper pick peck pickl peppersa peck pick...</td>\n",
       "    </tr>\n",
       "    <tr>\n",
       "      <th>4</th>\n",
       "      <td>Yellow butter, purple jelly, red jam, black br...</td>\n",
       "      <td>yellow butter purple jelly red jam black bread...</td>\n",
       "      <td>yellow butter purpl jelli red jam black breads...</td>\n",
       "    </tr>\n",
       "  </tbody>\n",
       "</table>\n",
       "</div>"
      ],
      "text/plain": [
       "                                                docs  \\\n",
       "0  A tree-toad loved a she-toad\\nWho lived up in ...   \n",
       "1  Bobby Bibby bought a bat\\nBobby Bibby bought a...   \n",
       "2  All I want is a proper cup of coffee,\\nMade in...   \n",
       "3  Peter Piper picked a peck of pickled peppers.\\...   \n",
       "4  Yellow butter, purple jelly, red jam, black br...   \n",
       "\n",
       "                            Text_cleaning_lemmatizer  \\\n",
       "0  treetoad loved shetoadwho lived treehe twotoed...   \n",
       "1  bobby bibby bought batbobby bibby bought ballw...   \n",
       "2  want proper cup coffeemade proper copper coffe...   \n",
       "3  peter piper picked peck pickled peppersa peck ...   \n",
       "4  yellow butter purple jelly red jam black bread...   \n",
       "\n",
       "                               Text_cleaning_stemmer  \n",
       "0  treetoad love shetoadwho live treeh twoto tree...  \n",
       "1  bobbi bibbi bought batbobbi bibbi bought ballw...  \n",
       "2  want proper cup coffeemad proper copper coffe ...  \n",
       "3  peter piper pick peck pickl peppersa peck pick...  \n",
       "4  yellow butter purpl jelli red jam black breads...  "
      ]
     },
     "execution_count": 118,
     "metadata": {},
     "output_type": "execute_result"
    }
   ],
   "source": [
    "df"
   ]
  },
  {
   "cell_type": "code",
   "execution_count": null,
   "id": "0e9ca17c",
   "metadata": {},
   "outputs": [],
   "source": []
  },
  {
   "cell_type": "code",
   "execution_count": 119,
   "id": "1ced8619",
   "metadata": {},
   "outputs": [
    {
     "name": "stderr",
     "output_type": "stream",
     "text": [
      "[nltk_data] Downloading package punkt to C:\\Users\\Sonu\n",
      "[nltk_data]     Vikas\\AppData\\Roaming\\nltk_data...\n",
      "[nltk_data]   Unzipping tokenizers\\punkt.zip.\n"
     ]
    },
    {
     "name": "stdout",
     "output_type": "stream",
     "text": [
      "peter piper pick a peck of pickl peppers.a peck of pickl pepper peter piper picked.if peter piper pick a peck of pickl pepper , where ’ s the peck of pickl pepper peter piper pick ?\n"
     ]
    }
   ],
   "source": [
    "import nltk\n",
    "from nltk.stem import SnowballStemmer\n",
    "nltk.download('punkt')\n",
    "\n",
    "# Sample text\n",
    "text = \"Peter Piper picked a peck of pickled peppers.A peck of pickled peppers Peter Piper picked.If Peter Piper picked a peck of pickled peppers,Where’s the peck of pickled peppers Peter Piper picked?\"\n",
    "\n",
    "# Initialize the Snowball Stemmer for English\n",
    "stemmer = SnowballStemmer('english')\n",
    "\n",
    "# Tokenize the text into words\n",
    "words = nltk.word_tokenize(text)\n",
    "\n",
    "# Stem each word and join them back into a string\n",
    "stemmed_words = [stemmer.stem(word) for word in words]\n",
    "stemmed_text = ' '.join(stemmed_words)\n",
    "\n",
    "print(stemmed_text)"
   ]
  },
  {
   "cell_type": "code",
   "execution_count": 120,
   "id": "8ec7c631",
   "metadata": {},
   "outputs": [
    {
     "name": "stdout",
     "output_type": "stream",
     "text": [
      "Peter Piper picked a peck of pickled peppers.A peck of pickled pepper Peter Piper picked.If Peter Piper picked a peck of pickled pepper , Where ’ s the peck of pickled pepper Peter Piper picked ?\n"
     ]
    }
   ],
   "source": [
    "import nltk\n",
    "from nltk.stem import WordNetLemmatizer\n",
    "\n",
    "# Sample text\n",
    "text = \"Peter Piper picked a peck of pickled peppers.A peck of pickled peppers Peter Piper picked.If Peter Piper picked a peck of pickled peppers,Where’s the peck of pickled peppers Peter Piper picked?\"\n",
    "\n",
    "# Initialize the WordNet Lemmatizer\n",
    "lemmatizer = WordNetLemmatizer()\n",
    "\n",
    "# Tokenize the text into words\n",
    "words = nltk.word_tokenize(text)\n",
    "\n",
    "# Lemmatize each word and join them back into a string\n",
    "lemmatized_words = [lemmatizer.lemmatize(word) for word in words]\n",
    "lemmatized_text = ' '.join(lemmatized_words)\n",
    "\n",
    "print(lemmatized_text)"
   ]
  },
  {
   "cell_type": "markdown",
   "id": "decfca6b",
   "metadata": {},
   "source": [
    "### Uniform"
   ]
  },
  {
   "cell_type": "code",
   "execution_count": 123,
   "id": "57c4b730",
   "metadata": {
    "scrolled": true
   },
   "outputs": [
    {
     "data": {
      "text/plain": [
       "0    a tree-toad loved a she-toad\\nwho lived up in ...\n",
       "1    bobby bibby bought a bat\\nbobby bibby bought a...\n",
       "2    all i want is a proper cup of coffee,\\nmade in...\n",
       "3    peter piper picked a peck of pickled peppers.\\...\n",
       "4    yellow butter, purple jelly, red jam, black br...\n",
       "Name: docs, dtype: object"
      ]
     },
     "execution_count": 123,
     "metadata": {},
     "output_type": "execute_result"
    }
   ],
   "source": [
    "df['docs']=df['docs'].str.lower()\n",
    "df['docs']"
   ]
  },
  {
   "cell_type": "code",
   "execution_count": null,
   "id": "10f69a9e",
   "metadata": {},
   "outputs": [],
   "source": []
  },
  {
   "cell_type": "markdown",
   "id": "2ab0c1dd",
   "metadata": {},
   "source": [
    "### Html Tag"
   ]
  },
  {
   "cell_type": "code",
   "execution_count": 124,
   "id": "deb8675c",
   "metadata": {},
   "outputs": [
    {
     "data": {
      "text/plain": [
       "'Sonu Vikas '"
      ]
     },
     "execution_count": 124,
     "metadata": {},
     "output_type": "execute_result"
    }
   ],
   "source": [
    "x='<h>Sonu Vikas </h>'\n",
    "re.sub(r'<.*?>','',x)"
   ]
  },
  {
   "cell_type": "code",
   "execution_count": 125,
   "id": "c44812e7",
   "metadata": {},
   "outputs": [],
   "source": [
    "def htmltag(x):\n",
    "    return re.sub(r'<.*?>','',x)"
   ]
  },
  {
   "cell_type": "code",
   "execution_count": 126,
   "id": "0e4fa9a3",
   "metadata": {},
   "outputs": [
    {
     "data": {
      "text/plain": [
       "0    a tree-toad loved a she-toad\\nwho lived up in ...\n",
       "1    bobby bibby bought a bat\\nbobby bibby bought a...\n",
       "2    all i want is a proper cup of coffee,\\nmade in...\n",
       "3    peter piper picked a peck of pickled peppers.\\...\n",
       "4    yellow butter, purple jelly, red jam, black br...\n",
       "Name: docs, dtype: object"
      ]
     },
     "execution_count": 126,
     "metadata": {},
     "output_type": "execute_result"
    }
   ],
   "source": [
    "df['docs']=df['docs'].apply(htmltag)\n",
    "df['docs']"
   ]
  },
  {
   "cell_type": "markdown",
   "id": "535f6b94",
   "metadata": {},
   "source": [
    "### Url Remover"
   ]
  },
  {
   "cell_type": "code",
   "execution_count": 127,
   "id": "d8d536a7",
   "metadata": {},
   "outputs": [],
   "source": [
    "def urlre(x):\n",
    "    return re.sub(r'https?://\\S+|www\\.S\\+','',x)"
   ]
  },
  {
   "cell_type": "code",
   "execution_count": 129,
   "id": "734e511d",
   "metadata": {},
   "outputs": [
    {
     "data": {
      "text/plain": [
       "'A tree-toad loved a she-toad,\\nWho lived up in a tree. For the '"
      ]
     },
     "execution_count": 129,
     "metadata": {},
     "output_type": "execute_result"
    }
   ],
   "source": [
    "x='''A tree-toad loved a she-toad,\n",
    "Who lived up in a tree. For the https://www.twinkl.co.in/teaching-wiki/tongue-twisters-for-kids'''\n",
    "urlre(x)"
   ]
  },
  {
   "cell_type": "markdown",
   "id": "bd96839c",
   "metadata": {},
   "source": [
    "### New Line Handle"
   ]
  },
  {
   "cell_type": "code",
   "execution_count": 130,
   "id": "68659e39",
   "metadata": {},
   "outputs": [
    {
     "data": {
      "text/plain": [
       "'A tree-toad loved a she-toad, Who lived up in a tree, He was a two-toed tree-toad'"
      ]
     },
     "execution_count": 130,
     "metadata": {},
     "output_type": "execute_result"
    }
   ],
   "source": [
    "x='A tree-toad loved a she-toad,\\n Who lived up in a tree,\\n He was a two-toed tree-toad'\n",
    "re.sub(r'\\n','',x)"
   ]
  },
  {
   "cell_type": "markdown",
   "id": "7ba802ce",
   "metadata": {},
   "source": [
    "### Removing Special Character"
   ]
  },
  {
   "cell_type": "code",
   "execution_count": 131,
   "id": "f7ab7279",
   "metadata": {},
   "outputs": [
    {
     "data": {
      "text/plain": [
       "'A tree toad     loved a she toad   Who lived up in a tree      He was a two toed tree toad'"
      ]
     },
     "execution_count": 131,
     "metadata": {},
     "output_type": "execute_result"
    }
   ],
   "source": [
    "x='A tree-toad #$! loved a she-toad,@ Who lived up in a tree,_+-* He was a two-toed tree-toad'\n",
    "re.sub(r'[^a-zA-Z]',' ',x)"
   ]
  },
  {
   "cell_type": "markdown",
   "id": "0dc7fcf6",
   "metadata": {},
   "source": [
    "### Stopwords"
   ]
  },
  {
   "cell_type": "code",
   "execution_count": 134,
   "id": "5ecea866",
   "metadata": {},
   "outputs": [
    {
     "data": {
      "text/plain": [
       "['a',\n",
       " 'tree-toad',\n",
       " 'loved',\n",
       " 'a',\n",
       " 'she-toad',\n",
       " 'who',\n",
       " 'lived',\n",
       " 'up',\n",
       " 'in',\n",
       " 'a',\n",
       " 'tree',\n",
       " 'he',\n",
       " 'was',\n",
       " 'a',\n",
       " 'two-toed',\n",
       " 'tree-toad']"
      ]
     },
     "execution_count": 134,
     "metadata": {},
     "output_type": "execute_result"
    }
   ],
   "source": [
    "x='A tree-toad loved a she-toad Who lived up in a tree  He was a two-toed tree-toad'.casefold().split()\n",
    "x"
   ]
  },
  {
   "cell_type": "code",
   "execution_count": 135,
   "id": "7d8f505a",
   "metadata": {},
   "outputs": [
    {
     "data": {
      "text/plain": [
       "['tree-toad', 'loved', 'she-toad', 'lived', 'tree', 'two-toed', 'tree-toad']"
      ]
     },
     "execution_count": 135,
     "metadata": {},
     "output_type": "execute_result"
    }
   ],
   "source": [
    "z= [i for i in x if i not in stopwords.words('english')]\n",
    "z"
   ]
  },
  {
   "cell_type": "code",
   "execution_count": 137,
   "id": "6b82c46a",
   "metadata": {},
   "outputs": [],
   "source": [
    "def stopword(x):\n",
    "    z=[]\n",
    "    for i in x.casefold().split():\n",
    "        if i not in stopwords.words('english'):\n",
    "            z.append(i)\n",
    "    return ' '.join(z)"
   ]
  },
  {
   "cell_type": "code",
   "execution_count": 138,
   "id": "d895ed67",
   "metadata": {
    "scrolled": true
   },
   "outputs": [
    {
     "data": {
      "text/plain": [
       "0    tree-toad loved she-toad lived tree. two-toed ...\n",
       "1    bobby bibby bought bat bobby bibby bought ball...\n",
       "2    want proper cup coffee, made proper copper cof...\n",
       "3    peter piper picked peck pickled peppers. peck ...\n",
       "4    yellow butter, purple jelly, red jam, black br...\n",
       "Name: docs, dtype: object"
      ]
     },
     "execution_count": 138,
     "metadata": {},
     "output_type": "execute_result"
    }
   ],
   "source": [
    "df['docs']=df['docs'].apply(stopword)\n",
    "df['docs']"
   ]
  },
  {
   "cell_type": "markdown",
   "id": "55391acb",
   "metadata": {},
   "source": [
    "# Regex Function"
   ]
  },
  {
   "cell_type": "code",
   "execution_count": 121,
   "id": "978325d7",
   "metadata": {},
   "outputs": [
    {
     "name": "stdout",
     "output_type": "stream",
     "text": [
      "There are number Bus and number Truck\n"
     ]
    }
   ],
   "source": [
    "import re\n",
    "\n",
    "def convert_numbers_to_word(text):\n",
    "    pattern = r'\\d+'  # Regular expression pattern to match one or more digits\n",
    "    \n",
    "    def replace(match):\n",
    "        return 'number'\n",
    "    \n",
    "    converted_text = re.sub(pattern, replace, text)\n",
    "    \n",
    "    return converted_text\n",
    "\n",
    "# Example usage\n",
    "text = \"There are 10 Bus and 5 Truck\"\n",
    "converted_text = convert_numbers_to_word(text)\n",
    "print(converted_text)"
   ]
  },
  {
   "cell_type": "code",
   "execution_count": 122,
   "id": "5b91fc57",
   "metadata": {},
   "outputs": [
    {
     "name": "stdout",
     "output_type": "stream",
     "text": [
      "['10', '5']\n"
     ]
    }
   ],
   "source": [
    "import re\n",
    "\n",
    "def extract_numbers(text):\n",
    "    pattern = r'\\d+'  # Matches one or more digits\n",
    "    \n",
    "    numbers = re.findall(pattern, text)\n",
    "    \n",
    "    return numbers\n",
    "\n",
    "# Example usage\n",
    "text = \"I have 10 Bus and 5 Truck\"\n",
    "\n",
    "numbers = extract_numbers(text)\n",
    "print(numbers)"
   ]
  },
  {
   "cell_type": "code",
   "execution_count": null,
   "id": "02f699b7",
   "metadata": {},
   "outputs": [],
   "source": []
  }
 ],
 "metadata": {
  "kernelspec": {
   "display_name": "Python 3 (ipykernel)",
   "language": "python",
   "name": "python3"
  },
  "language_info": {
   "codemirror_mode": {
    "name": "ipython",
    "version": 3
   },
   "file_extension": ".py",
   "mimetype": "text/x-python",
   "name": "python",
   "nbconvert_exporter": "python",
   "pygments_lexer": "ipython3",
   "version": "3.10.9"
  }
 },
 "nbformat": 4,
 "nbformat_minor": 5
}
